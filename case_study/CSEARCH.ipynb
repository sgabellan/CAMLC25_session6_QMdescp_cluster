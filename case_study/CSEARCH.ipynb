{
 "cells": [
  {
   "cell_type": "markdown",
   "metadata": {},
   "source": [
    "#### CSEARCH performs conformational sampling"
   ]
  },
  {
   "cell_type": "markdown",
   "metadata": {},
   "source": [
    "##### Step 1: CSEARCH conformational sampling of a SMILE (creates SDF files)\n",
    "*Compare the time required and the result of using rdkit or crest as the program*"
   ]
  },
  {
   "cell_type": "code",
   "execution_count": null,
   "metadata": {},
   "outputs": [],
   "source": [
    "import os, glob\n",
    "from pathlib import Path\n",
    "from aqme.csearch import csearch\n",
    "\n",
    "# set working directory, SDF creation folder, name and SMILES string\n",
    "name = 'mol_1'\n",
    "smi = 'O=Cc1cc(Br)c2c(c1)OCO2'\n",
    "w_dir_main = Path(os.getcwd())\n",
    "sdf_path = w_dir_main.joinpath(name)\n",
    "\n",
    "# run CSEARCH conformational sampling, specifying:\n",
    "# 1) PATH to create the new SDF files (destination=sdf_path)\n",
    "# 2) RDKit sampling (program='rdkit')\n",
    "# 3) SMILES string (smi=smi)\n",
    "# 4) Name for the output SDF files (name=name)\n",
    "# 5) Maximum number of conformers\n",
    "csearch(destination=sdf_path,program='rdkit',smi=smi,name=name,sample=5)"
   ]
  },
  {
   "cell_type": "markdown",
   "metadata": {},
   "source": [
    "##### Step 2: CSEARCH conformational sampling using a CSV with many SMILES (creates SDF files)\n",
    "*Compare the time required to use rdkit with 50 molecules and crest with 1*"
   ]
  },
  {
   "cell_type": "code",
   "execution_count": null,
   "metadata": {},
   "outputs": [],
   "source": [
    "import os, glob\n",
    "from pathlib import Path\n",
    "from aqme.csearch import csearch\n",
    "\n",
    "# Ideal for ML or big data projects, only need to replace smi and name with CSV input\n",
    "csv_input = 'ArBr_sample_10.csv'\n",
    "sdf_folder = 'ArBr_sample_10'\n",
    "w_dir_main = Path(os.getcwd())\n",
    "sdf_path = w_dir_main.joinpath(sdf_folder)\n",
    "\n",
    "# create conformers for all the entries in the CSV\n",
    "csearch(destination=sdf_path,program='rdkit',input=csv_input,sample=1)"
   ]
  },
  {
   "cell_type": "code",
   "execution_count": null,
   "id": "974320fc",
   "metadata": {},
   "outputs": [],
   "source": []
  }
 ],
 "metadata": {
  "kernelspec": {
   "display_name": "cheminf",
   "language": "python",
   "name": "python3"
  },
  "language_info": {
   "codemirror_mode": {
    "name": "ipython",
    "version": 3
   },
   "file_extension": ".py",
   "mimetype": "text/x-python",
   "name": "python",
   "nbconvert_exporter": "python",
   "pygments_lexer": "ipython3",
   "version": "3.10.13"
  }
 },
 "nbformat": 4,
 "nbformat_minor": 5
}
