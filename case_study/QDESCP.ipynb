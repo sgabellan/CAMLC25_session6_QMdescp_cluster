{
 "cells": [
  {
   "attachments": {},
   "cell_type": "markdown",
   "metadata": {},
   "source": [
    "#### CSEARCH performs conformational sampling, QDESCP produces xtb properties\n"
   ]
  },
  {
   "cell_type": "code",
   "execution_count": null,
   "metadata": {},
   "outputs": [],
   "source": [
    "import glob\n",
    "from aqme.csearch import csearch\n",
    "from aqme.qdescp import qdescp\n",
    "\n",
    "# define the input name\n",
    "file = 'ArBr_sample_10.csv'\n",
    "\n",
    "# run QDESCP descriptor generator, with:\n",
    "qdescp(input=file,sample=1,qdescp_atoms=['Br'])"
   ]
  },
  {
   "cell_type": "code",
   "execution_count": null,
   "id": "b35390c8",
   "metadata": {},
   "outputs": [],
   "source": [
    "import os, glob\n",
    "from aqme.csearch import csearch\n",
    "from aqme.qdescp import qdescp\n",
    "\n",
    "# define the input name\n",
    "file = 'ArBr_sample_10.csv'\n",
    "\n",
    "# run QDESCP descriptor generator, with:\n",
    "qdescp(input=file,sample=1,qdescp_atoms=['CBr'])"
   ]
  },
  {
   "cell_type": "code",
   "execution_count": null,
   "id": "1cfcafeb",
   "metadata": {},
   "outputs": [],
   "source": [
    "import os, glob\n",
    "from aqme.csearch import csearch\n",
    "from aqme.qdescp import qdescp\n",
    "\n",
    "# define the input name\n",
    "file = 'ArBr_sample_10.csv'\n",
    "\n",
    "# run QDESCP descriptor generator, with:\n",
    "qdescp(input=file,sample=1,qdescp_atoms=['cBr'])"
   ]
  }
 ],
 "metadata": {
  "kernelspec": {
   "display_name": "cheminf",
   "language": "python",
   "name": "python3"
  },
  "language_info": {
   "codemirror_mode": {
    "name": "ipython",
    "version": 3
   },
   "file_extension": ".py",
   "mimetype": "text/x-python",
   "name": "python",
   "nbconvert_exporter": "python",
   "pygments_lexer": "ipython3",
   "version": "3.10.13"
  }
 },
 "nbformat": 4,
 "nbformat_minor": 5
}
