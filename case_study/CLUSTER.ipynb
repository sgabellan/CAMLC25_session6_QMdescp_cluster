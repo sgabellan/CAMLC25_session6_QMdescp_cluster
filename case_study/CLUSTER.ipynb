{
 "cells": [
  {
   "cell_type": "markdown",
   "metadata": {},
   "source": [
    "#### CLUSTER module, in ALMOS, performs clustering using K-means"
   ]
  },
  {
   "cell_type": "markdown",
   "metadata": {},
   "source": [
    "##### Step 1: Run CLUSTER  specifying n_clusters, using a CSV file with the descriptors as input"
   ]
  },
  {
   "cell_type": "code",
   "execution_count": null,
   "metadata": {},
   "outputs": [],
   "source": [
    "import os, glob\n",
    "from pathlib import Path\n",
    "from almos.cluster import cluster\n",
    "\n",
    "# define the input name and another options\n",
    "input = 'AQME-ROBERT_interpret_ArBr_sample_10.csv'\n",
    "name = 'code_name'\n",
    "ignore = ['SMILES', 'code_name']\n",
    "\n",
    "# run CLUSTER, specifying:\n",
    "cluster(input=input,n_clusters=3, name=name, ignore=ignore)"
   ]
  },
  {
   "cell_type": "markdown",
   "id": "60f451ec",
   "metadata": {},
   "source": [
    "##### Step 2: Run CLUSTER without specifying n_clusters, using a CSV file with the descriptors as input"
   ]
  },
  {
   "cell_type": "code",
   "execution_count": null,
   "id": "4b14cf12",
   "metadata": {},
   "outputs": [],
   "source": [
    "import os, glob\n",
    "from pathlib import Path\n",
    "from almos.cluster import cluster\n",
    "\n",
    "# define the input name and another options\n",
    "input = 'AQME-ROBERT_interpret_ArBr_sample_10.csv'\n",
    "name = 'code_name'\n",
    "ignore = ['SMILES', 'code_name']\n",
    "\n",
    "\n",
    "# run CLUSTER, specifying:\n",
    "cluster(input=input, name=name, ignore=ignore)"
   ]
  },
  {
   "cell_type": "markdown",
   "id": "9c11fe2f",
   "metadata": {},
   "source": [
    "##### Step 3: Run CLUSTER without specifying n_clusters, using a CSV file with more than 10 molecules (descriptors as input)."
   ]
  },
  {
   "cell_type": "code",
   "execution_count": null,
   "id": "50fcef5f",
   "metadata": {},
   "outputs": [],
   "source": [
    "import os, glob\n",
    "from pathlib import Path\n",
    "from almos.cluster import cluster\n",
    "\n",
    "# define the input name and another options\n",
    "input = 'descriptors_result/50_ArBr.csv'\n",
    "name = 'code_name'\n",
    "ignore = ['SMILES', 'code_name']\n",
    "\n",
    "# run CLUSTER, specifying:\n",
    "cluster(input=input, name=name, ignore=ignore)\n"
   ]
  },
  {
   "cell_type": "markdown",
   "id": "180ea9f3",
   "metadata": {},
   "source": [
    "##### Step 4: Run CLUSTER specifying n_clusters, using a CSV file WITHOUT descriptors as input"
   ]
  },
  {
   "cell_type": "code",
   "execution_count": null,
   "id": "cde8fed6",
   "metadata": {},
   "outputs": [],
   "source": [
    "import os, glob\n",
    "from pathlib import Path\n",
    "from almos.cluster import cluster\n",
    "\n",
    "# define the input name and another options\n",
    "input = 'ArBr_sample_10.csv'\n",
    "aqme_keywords = \"--qdescp_atoms ['cBr']\"\n",
    "ignore = []\n",
    "\n",
    "# run CLUSTER, specifying:\n",
    "cluster(input=input,n_clusters=3,aqme = True, aqme_keywords=aqme_keywords, ignore=ignore)"
   ]
  }
 ],
 "metadata": {
  "kernelspec": {
   "display_name": "almos",
   "language": "python",
   "name": "python3"
  },
  "language_info": {
   "codemirror_mode": {
    "name": "ipython",
    "version": 3
   },
   "file_extension": ".py",
   "mimetype": "text/x-python",
   "name": "python",
   "nbconvert_exporter": "python",
   "pygments_lexer": "ipython3",
   "version": "3.10.13"
  }
 },
 "nbformat": 4,
 "nbformat_minor": 5
}
