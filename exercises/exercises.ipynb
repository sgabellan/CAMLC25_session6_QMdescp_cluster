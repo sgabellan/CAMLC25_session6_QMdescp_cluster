{
 "cells": [
  {
   "cell_type": "markdown",
   "metadata": {},
   "source": [
    "#### CASE STUDY II"
   ]
  },
  {
   "cell_type": "markdown",
   "id": "cdc02352",
   "metadata": {},
   "source": [
    "##### **Step 1:** Use AQME QDESCP (which includes CSEARCH) to generate descriptors from the file alkynes.csv.\n",
    "*If the alkyne is relevant to the reaction under study, would you add atomic descriptors? Which ones?*\n"
   ]
  },
  {
   "cell_type": "code",
   "execution_count": null,
   "id": "c3233ff0",
   "metadata": {},
   "outputs": [],
   "source": [
    "# copy and paste the code that you need and modify the sections you need\n",
    "\n",
    "\n"
   ]
  },
  {
   "cell_type": "markdown",
   "id": "354049cd",
   "metadata": {},
   "source": [
    "##### **Step 2**: Performs clustering using ALMOS CLUSTER and the CSV files from alkyne_32 folder \n",
    "\n",
    "    - Explore the 3 levels of descriptors (full, interpret, denovo)\n",
    "    - Explore different number of clusters, analysing the PCA representation\n",
    "    - Explore the result of apply the elbow method\n",
    "\n"
   ]
  },
  {
   "cell_type": "code",
   "execution_count": null,
   "id": "eefcd232",
   "metadata": {},
   "outputs": [],
   "source": [
    "# copy and paste the code that you need and modify the sections you need\n"
   ]
  },
  {
   "cell_type": "code",
   "execution_count": null,
   "id": "22769e54",
   "metadata": {},
   "outputs": [],
   "source": [
    "\n",
    "\n"
   ]
  }
 ],
 "metadata": {
  "kernelspec": {
   "display_name": "almos",
   "language": "python",
   "name": "python3"
  },
  "language_info": {
   "codemirror_mode": {
    "name": "ipython",
    "version": 3
   },
   "file_extension": ".py",
   "mimetype": "text/x-python",
   "name": "python",
   "nbconvert_exporter": "python",
   "pygments_lexer": "ipython3",
   "version": "3.10.13"
  }
 },
 "nbformat": 4,
 "nbformat_minor": 5
}
